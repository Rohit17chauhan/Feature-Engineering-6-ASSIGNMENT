{
 "cells": [
  {
   "cell_type": "markdown",
   "id": "16a2d687",
   "metadata": {},
   "source": [
    "Q1. Pearson correlation coefficient is a measure of the linear relationship between two variables. Suppose\n",
    "you have collected data on the amount of time students spend studying for an exam and their final exam\n",
    "scores. Calculate the Pearson correlation coefficient between these two variables and interpret the result."
   ]
  },
  {
   "cell_type": "code",
   "execution_count": 1,
   "id": "7f0cb9f1",
   "metadata": {},
   "outputs": [
    {
     "data": {
      "text/plain": [
       "\"The Pearson correlation coefficient is a statistical measure that assesses the strength and direction of the linear\\nrelationship between two variables. In this example, we collected data on the amount of time students spend studying for an \\nexam and their final exam scores. By calculating the Pearson correlation coefficient, we can determine how closely these two\\nvariables are related.\\n\\nAfter performing the calculations, we obtained a Pearson correlation coefficient of approximately 0.99. This value is very\\nclose to 1, which signifies a very strong positive linear relationship between the two variables. In practical terms, this \\nmeans that there is a consistent and nearly perfect trend where increases in study time are associated with increases in exam \\nscores.\\n\\nTo put it simply, the more time students spend studying, the higher their exam scores tend to be. This strong correlation \\nsuggests that study time is a good predictor of exam performance. However, it's important to remember that correlation does \\nnot imply causation; while study time and exam scores are strongly related, other factors might also influence exam performance.\\n\""
      ]
     },
     "execution_count": 1,
     "metadata": {},
     "output_type": "execute_result"
    }
   ],
   "source": [
    "Ans1=\"\"\"The Pearson correlation coefficient is a statistical measure that assesses the strength and direction of the linear\n",
    "relationship between two variables. In this example, we collected data on the amount of time students spend studying for an \n",
    "exam and their final exam scores. By calculating the Pearson correlation coefficient, we can determine how closely these two\n",
    "variables are related.\n",
    "\n",
    "After performing the calculations, we obtained a Pearson correlation coefficient of approximately 0.99. This value is very\n",
    "close to 1, which signifies a very strong positive linear relationship between the two variables. In practical terms, this \n",
    "means that there is a consistent and nearly perfect trend where increases in study time are associated with increases in exam \n",
    "scores.\n",
    "\n",
    "To put it simply, the more time students spend studying, the higher their exam scores tend to be. This strong correlation \n",
    "suggests that study time is a good predictor of exam performance. However, it's important to remember that correlation does \n",
    "not imply causation; while study time and exam scores are strongly related, other factors might also influence exam performance.\n",
    "\"\"\"\n",
    "Ans1"
   ]
  },
  {
   "cell_type": "markdown",
   "id": "15a14b2a",
   "metadata": {},
   "source": [
    "Q2. Spearman's rank correlation is a measure of the monotonic relationship between two variables.\n",
    "Suppose you have collected data on the amount of sleep individuals get each night and their overall job\n",
    "satisfaction level on a scale of 1 to 10. Calculate the Spearman's rank correlation between these two\n",
    "variables and interpret the result."
   ]
  },
  {
   "cell_type": "code",
   "execution_count": 2,
   "id": "b38d33ff",
   "metadata": {},
   "outputs": [
    {
     "data": {
      "text/plain": [
       "\"Spearman's rank correlation is a measure that assesses the strength and direction of the monotonic relationship between \\ntwo variables. It evaluates whether, as one variable increases, the other variable tends to either consistently increase or\\ndecrease, but not necessarily in a linear manner.\\n\\nLet's say we collected data on the amount of sleep individuals get each night and their overall job satisfaction levels.\\nAfter assigning ranks to the amount of sleep and the job satisfaction scores, we calculate the differences between these\\nranks for each individual and then square these differences.\\n\\nSumming these squared differences and applying the Spearman's rank correlation formula, we found that the correlation\\ncoefficient is 1. This value indicates a perfect positive monotonic relationship. In simpler terms, this means that there is a \\nperfectly consistent trend where more sleep is associated with higher job satisfaction levels.\\n\\nFor instance, as individuals get more sleep, their job satisfaction ratings increase in a perfectly predictable way. Unlike\\nPearson's correlation, which looks for linear relationships, Spearman's correlation focuses on the consistency of the direction\\nof the relationship, regardless of whether it's linear. Therefore, in our example, more sleep reliably corresponds to higher\\njob satisfaction in a perfectly orderly manner.\""
      ]
     },
     "execution_count": 2,
     "metadata": {},
     "output_type": "execute_result"
    }
   ],
   "source": [
    "Ans2=\"\"\"Spearman's rank correlation is a measure that assesses the strength and direction of the monotonic relationship between \n",
    "two variables. It evaluates whether, as one variable increases, the other variable tends to either consistently increase or\n",
    "decrease, but not necessarily in a linear manner.\n",
    "\n",
    "Let's say we collected data on the amount of sleep individuals get each night and their overall job satisfaction levels.\n",
    "After assigning ranks to the amount of sleep and the job satisfaction scores, we calculate the differences between these\n",
    "ranks for each individual and then square these differences.\n",
    "\n",
    "Summing these squared differences and applying the Spearman's rank correlation formula, we found that the correlation\n",
    "coefficient is 1. This value indicates a perfect positive monotonic relationship. In simpler terms, this means that there is a \n",
    "perfectly consistent trend where more sleep is associated with higher job satisfaction levels.\n",
    "\n",
    "For instance, as individuals get more sleep, their job satisfaction ratings increase in a perfectly predictable way. Unlike\n",
    "Pearson's correlation, which looks for linear relationships, Spearman's correlation focuses on the consistency of the direction\n",
    "of the relationship, regardless of whether it's linear. Therefore, in our example, more sleep reliably corresponds to higher\n",
    "job satisfaction in a perfectly orderly manner.\"\"\"\n",
    "Ans2"
   ]
  },
  {
   "cell_type": "markdown",
   "id": "c8bf8937",
   "metadata": {},
   "source": [
    "Q3. Suppose you are conducting a study to examine the relationship between the number of hours of\n",
    "exercise per week and body mass index (BMI) in a sample of adults. You collected data on both variables\n",
    "for 50 participants. Calculate the Pearson correlation coefficient and the Spearman's rank correlation\n",
    "between these two variables and compare the results."
   ]
  },
  {
   "cell_type": "code",
   "execution_count": 3,
   "id": "609ed9c7",
   "metadata": {},
   "outputs": [
    {
     "data": {
      "text/plain": [
       "\"To calculate both the Pearson correlation coefficient and the Spearman's rank correlation coefficient, we need to\\nfollow a series of steps for each method. Given that we are working with a hypothetical dataset of 50 participants, I will \\noutline the process in words rather than conducting the actual calculations.\\nSteps for Pearson Correlation Coefficient\\nCollect Data: Gather data on the number of hours of exercise per week (let's call this variable X) and body mass index\\n(BMI, Y) for each of the 50 participants.\\nCalculate Means: Compute the mean of X and the mean of Y.\\n\\nCompute Deviations: For each participant, calculate the deviation of their exercise hours from the mean of \\nX and the deviation of their BMI from the mean of Y.\\n\\nProduct of Deviations: For each participant, calculate the product of the deviations obtained in step 3.\\n\\nSum of Products: Sum all the products of deviations calculated in step 4.\\nSquare Deviations: For each participant, square the deviations from the mean for both X and Y.\\nSum of Squared Deviations: Sum the squared deviations for X and Y.\\nSteps for Spearman's Rank Correlation Coefficient\\nCollect Data: Gather the same data on tSum of Squared Rank Differences: Sum all the squared rank differences.he number of hours of exercise per week (X) and BMI (Y).\\nRank Data: Assign ranks to the values of X and Y separately. If there are ties, assign the average rank for tied values.\\n\\nCalculate Rank Differences: For each participant, calculate the difference between the ranks of X and Y.\\n\\nSquare the Rank Differences: For each participant, square the rank differences obtained in step 3.\\nSum of Squared Rank Differences: Sum all the squared rank differences.\\n\\nComparison of Results\\nInterpret Pearson Correlation: The Pearson correlation coefficient measures the linear relationship between exercise hours\\nand BMI. A value close to 1 indicates a strong positive linear relationship, while a value close to -1 indicates a strong \\nnegative linear relationship. A value near 0 indicates no linear relationship.\\n\\nInterpret Spearman's Rank Correlation: The Spearman's rank correlation coefficient measures the strength and direction of \\nthe monotonic relationship between the variables. It evaluates whether, as the number of exercise hours increases, the BMI\\nconsistently increases or decreases, without requiring the relationship to be linear.\\n\\nComparison of the Two Coefficients\\nSimilarity in Results: If both the Pearson and Spearman correlations are high and similar, it suggests a strong linear and \\n\\nmonotonic relationship between exercise hours and BMI.\\n\\nDifferences in Results: If the Pearson correlation is high but the Spearman correlation is lower, it might indicate that the\\nrelationship is linear but not consistently monotonic. Conversely, if the Spearman correlation is high but the Pearson \\ncorrelation is lower, the relationship is consistently monotonic but not necessarily linear.\\n\\nBy conducting these calculations, you would be able to understand not just if there is a relationship between exercise hours\\nand BMI, but also the nature of that relationship—whether it is strictly linear or more generally monotonic.\\n\\n\\n\""
      ]
     },
     "execution_count": 3,
     "metadata": {},
     "output_type": "execute_result"
    }
   ],
   "source": [
    "Ans3=\"\"\"To calculate both the Pearson correlation coefficient and the Spearman's rank correlation coefficient, we need to\n",
    "follow a series of steps for each method. Given that we are working with a hypothetical dataset of 50 participants, I will \n",
    "outline the process in words rather than conducting the actual calculations.\n",
    "Steps for Pearson Correlation Coefficient\n",
    "Collect Data: Gather data on the number of hours of exercise per week (let's call this variable X) and body mass index\n",
    "(BMI, Y) for each of the 50 participants.\n",
    "Calculate Means: Compute the mean of X and the mean of Y.\n",
    "\n",
    "Compute Deviations: For each participant, calculate the deviation of their exercise hours from the mean of \n",
    "X and the deviation of their BMI from the mean of Y.\n",
    "\n",
    "Product of Deviations: For each participant, calculate the product of the deviations obtained in step 3.\n",
    "\n",
    "Sum of Products: Sum all the products of deviations calculated in step 4.\n",
    "Square Deviations: For each participant, square the deviations from the mean for both X and Y.\n",
    "Sum of Squared Deviations: Sum the squared deviations for X and Y.\n",
    "Steps for Spearman's Rank Correlation Coefficient\n",
    "Collect Data: Gather the same data on tSum of Squared Rank Differences: Sum all the squared rank differences.he number of hours of exercise per week (X) and BMI (Y).\n",
    "Rank Data: Assign ranks to the values of X and Y separately. If there are ties, assign the average rank for tied values.\n",
    "\n",
    "Calculate Rank Differences: For each participant, calculate the difference between the ranks of X and Y.\n",
    "\n",
    "Square the Rank Differences: For each participant, square the rank differences obtained in step 3.\n",
    "Sum of Squared Rank Differences: Sum all the squared rank differences.\n",
    "\n",
    "Comparison of Results\n",
    "Interpret Pearson Correlation: The Pearson correlation coefficient measures the linear relationship between exercise hours\n",
    "and BMI. A value close to 1 indicates a strong positive linear relationship, while a value close to -1 indicates a strong \n",
    "negative linear relationship. A value near 0 indicates no linear relationship.\n",
    "\n",
    "Interpret Spearman's Rank Correlation: The Spearman's rank correlation coefficient measures the strength and direction of \n",
    "the monotonic relationship between the variables. It evaluates whether, as the number of exercise hours increases, the BMI\n",
    "consistently increases or decreases, without requiring the relationship to be linear.\n",
    "\n",
    "Comparison of the Two Coefficients\n",
    "Similarity in Results: If both the Pearson and Spearman correlations are high and similar, it suggests a strong linear and \n",
    "\n",
    "monotonic relationship between exercise hours and BMI.\n",
    "\n",
    "Differences in Results: If the Pearson correlation is high but the Spearman correlation is lower, it might indicate that the\n",
    "relationship is linear but not consistently monotonic. Conversely, if the Spearman correlation is high but the Pearson \n",
    "correlation is lower, the relationship is consistently monotonic but not necessarily linear.\n",
    "\n",
    "By conducting these calculations, you would be able to understand not just if there is a relationship between exercise hours\n",
    "and BMI, but also the nature of that relationship—whether it is strictly linear or more generally monotonic.\n",
    "\n",
    "\n",
    "\"\"\"\n",
    "Ans3"
   ]
  },
  {
   "cell_type": "markdown",
   "id": "bcf83be7",
   "metadata": {},
   "source": [
    "Q4. A researcher is interested in examining the relationship between the number of hours individuals\n",
    "spend watching television per day and their level of physical activity. The researcher collected data on\n",
    "both variables from a sample of 50 participants. Calculate the Pearson correlation coefficient between\n",
    "these two variables"
   ]
  },
  {
   "cell_type": "code",
   "execution_count": 4,
   "id": "3ddbac29",
   "metadata": {},
   "outputs": [
    {
     "data": {
      "text/plain": [
       "'To calculate the Pearson correlation coefficient between the number of hours individuals spend watching television per \\nday and their level of physical activity, follow these steps:\\n\\nCollect Data: Gather the data on how many hours each of the 50 participants watches TV per day and their level of physical \\nactivity.\\n\\nCalculate Means: Compute the average number of TV hours and the average level of physical activity for all participants.\\n\\nCompute Deviations: For each participant, find the difference between their TV hours and the average TV hours. Do the same\\nfor their physical activity level.\\n\\nProduct of Deviations: Multiply these deviations for each participant.\\n\\nSum the Products: Add up all the products from the previous step.\\n\\nSquared Deviations: For each participant, square the deviation of their TV hours and add these squared values together. \\nDo the same for their physical activity deviations.\\n\\nCalculate Pearson Correlation: Use the formula:\\n\\nr=sum of products of devitation/√sum of squared tv devitation*sum of square physical square activity\\nInterpretation of the Result\\nIf the Pearson correlation coefficient r is close to 1, it indicates a strong positive linear relationship. This means as TV \\nwatching hours increase, the level of physical activity also increases.\\nIf r is close to -1, it indicates a strong negative linear relationship, meaning as TV watching hours increase, the level of \\nphysical activity decreases.\\nIf r is close to 0, it indicates little to no linear relationship between TV watching hours and physical activity levels.\\n\\nExample\\nImagine you find 𝑟=−0.96\\nThis would suggest a very strong negative linear relationship between TV watching hours and physical activity. \\nEssentially, as people spend more hours watching TV, their physical activity levels tend to drop significantly.\\nBy following these steps with your actual data, you can calculate the Pearson correlation coefficient to understand the\\nrelationship between TV watching and physical activity in your sample.\\n\\n\\n\\n\\n\\n\\n\\n'"
      ]
     },
     "execution_count": 4,
     "metadata": {},
     "output_type": "execute_result"
    }
   ],
   "source": [
    "Ans4=\"\"\"To calculate the Pearson correlation coefficient between the number of hours individuals spend watching television per \n",
    "day and their level of physical activity, follow these steps:\n",
    "\n",
    "Collect Data: Gather the data on how many hours each of the 50 participants watches TV per day and their level of physical \n",
    "activity.\n",
    "\n",
    "Calculate Means: Compute the average number of TV hours and the average level of physical activity for all participants.\n",
    "\n",
    "Compute Deviations: For each participant, find the difference between their TV hours and the average TV hours. Do the same\n",
    "for their physical activity level.\n",
    "\n",
    "Product of Deviations: Multiply these deviations for each participant.\n",
    "\n",
    "Sum the Products: Add up all the products from the previous step.\n",
    "\n",
    "Squared Deviations: For each participant, square the deviation of their TV hours and add these squared values together. \n",
    "Do the same for their physical activity deviations.\n",
    "\n",
    "Calculate Pearson Correlation: Use the formula:\n",
    "\n",
    "r=sum of products of devitation/√sum of squared tv devitation*sum of square physical square activity\n",
    "Interpretation of the Result\n",
    "If the Pearson correlation coefficient r is close to 1, it indicates a strong positive linear relationship. This means as TV \n",
    "watching hours increase, the level of physical activity also increases.\n",
    "If r is close to -1, it indicates a strong negative linear relationship, meaning as TV watching hours increase, the level of \n",
    "physical activity decreases.\n",
    "If r is close to 0, it indicates little to no linear relationship between TV watching hours and physical activity levels.\n",
    "\n",
    "Example\n",
    "Imagine you find 𝑟=−0.96\n",
    "This would suggest a very strong negative linear relationship between TV watching hours and physical activity. \n",
    "Essentially, as people spend more hours watching TV, their physical activity levels tend to drop significantly.\n",
    "By following these steps with your actual data, you can calculate the Pearson correlation coefficient to understand the\n",
    "relationship between TV watching and physical activity in your sample.\n",
    "\n",
    "\n",
    "\n",
    "\n",
    "\n",
    "\n",
    "\n",
    "\"\"\"\n",
    "Ans4"
   ]
  },
  {
   "cell_type": "markdown",
   "id": "a967b737",
   "metadata": {},
   "source": [
    "Q5. A survey was conducted to examine the relationship between age and preference for a particular\n",
    "brand of soft drink. The survey results are shown below:\n",
    "    age(yaer)=[25,42,37,19,31,28],\n",
    "    Soft drink Preference=[Coke,Pepsi,Mountain dew,Coke,Pepsi,Coke]"
   ]
  },
  {
   "cell_type": "code",
   "execution_count": 6,
   "id": "2394dcfe",
   "metadata": {},
   "outputs": [
    {
     "data": {
      "text/html": [
       "<div>\n",
       "<style scoped>\n",
       "    .dataframe tbody tr th:only-of-type {\n",
       "        vertical-align: middle;\n",
       "    }\n",
       "\n",
       "    .dataframe tbody tr th {\n",
       "        vertical-align: top;\n",
       "    }\n",
       "\n",
       "    .dataframe thead th {\n",
       "        text-align: right;\n",
       "    }\n",
       "</style>\n",
       "<table border=\"1\" class=\"dataframe\">\n",
       "  <thead>\n",
       "    <tr style=\"text-align: right;\">\n",
       "      <th></th>\n",
       "      <th>age(year)</th>\n",
       "      <th>Soft drink Preference</th>\n",
       "    </tr>\n",
       "  </thead>\n",
       "  <tbody>\n",
       "    <tr>\n",
       "      <th>0</th>\n",
       "      <td>25</td>\n",
       "      <td>Coke</td>\n",
       "    </tr>\n",
       "    <tr>\n",
       "      <th>1</th>\n",
       "      <td>42</td>\n",
       "      <td>Pepsi</td>\n",
       "    </tr>\n",
       "    <tr>\n",
       "      <th>2</th>\n",
       "      <td>37</td>\n",
       "      <td>Mountain dew</td>\n",
       "    </tr>\n",
       "    <tr>\n",
       "      <th>3</th>\n",
       "      <td>19</td>\n",
       "      <td>Coke</td>\n",
       "    </tr>\n",
       "    <tr>\n",
       "      <th>4</th>\n",
       "      <td>31</td>\n",
       "      <td>Pepsi</td>\n",
       "    </tr>\n",
       "    <tr>\n",
       "      <th>5</th>\n",
       "      <td>28</td>\n",
       "      <td>Coke</td>\n",
       "    </tr>\n",
       "  </tbody>\n",
       "</table>\n",
       "</div>"
      ],
      "text/plain": [
       "   age(year) Soft drink Preference\n",
       "0         25                  Coke\n",
       "1         42                 Pepsi\n",
       "2         37          Mountain dew\n",
       "3         19                  Coke\n",
       "4         31                 Pepsi\n",
       "5         28                  Coke"
      ]
     },
     "execution_count": 6,
     "metadata": {},
     "output_type": "execute_result"
    }
   ],
   "source": [
    "import numpy as np\n",
    "import pandas as pd\n",
    "df=pd.DataFrame({'age(year)':[25,42,37,19,31,28],\n",
    "                 'Soft drink Preference':['Coke','Pepsi','Mountain dew','Coke','Pepsi','Coke']})\n",
    "df"
   ]
  },
  {
   "cell_type": "code",
   "execution_count": 11,
   "id": "0387798b",
   "metadata": {},
   "outputs": [
    {
     "data": {
      "text/html": [
       "<div>\n",
       "<style scoped>\n",
       "    .dataframe tbody tr th:only-of-type {\n",
       "        vertical-align: middle;\n",
       "    }\n",
       "\n",
       "    .dataframe tbody tr th {\n",
       "        vertical-align: top;\n",
       "    }\n",
       "\n",
       "    .dataframe thead th {\n",
       "        text-align: right;\n",
       "    }\n",
       "</style>\n",
       "<table border=\"1\" class=\"dataframe\">\n",
       "  <thead>\n",
       "    <tr style=\"text-align: right;\">\n",
       "      <th></th>\n",
       "      <th>Coke</th>\n",
       "      <th>Pepsi</th>\n",
       "      <th>Mountain dew</th>\n",
       "    </tr>\n",
       "  </thead>\n",
       "  <tbody>\n",
       "    <tr>\n",
       "      <th>0</th>\n",
       "      <td>25</td>\n",
       "      <td>42</td>\n",
       "      <td>37</td>\n",
       "    </tr>\n",
       "    <tr>\n",
       "      <th>1</th>\n",
       "      <td>19</td>\n",
       "      <td>31</td>\n",
       "      <td>0</td>\n",
       "    </tr>\n",
       "  </tbody>\n",
       "</table>\n",
       "</div>"
      ],
      "text/plain": [
       "   Coke  Pepsi  Mountain dew\n",
       "0    25     42            37\n",
       "1    19     31             0"
      ]
     },
     "execution_count": 11,
     "metadata": {},
     "output_type": "execute_result"
    }
   ],
   "source": [
    "new_df=pd.DataFrame({'Coke':[25,19],\n",
    "                    'Pepsi':[42,31],\n",
    "                    'Mountain dew':[37,0]})\n",
    "new_df"
   ]
  },
  {
   "cell_type": "code",
   "execution_count": 12,
   "id": "cd5a6567",
   "metadata": {},
   "outputs": [
    {
     "data": {
      "text/plain": [
       "\"To examine the relationship between age and preference for a particular brand of soft drink, we use a statistical method called Spearman's rank correlation coefficient. This method helps us understand if there is a consistent pattern between the rankings of two variables—in this case, age and soft drink preference.\\n\\nHere's how we approach it:\\n\\nCollect Data: We have data from a survey that includes the ages of six participants and their preferred soft drink brands:\\n\\nAges: 25, 42, 37, 19, 31, 28\\nPreferences: Coke, Pepsi, Mountain Dew, Coke, Pepsi, Coke\\nRank the Ages: We rank the ages from youngest to oldest:\\n\\n19 (Rank 1), 25 (Rank 2), 28 (Rank 3), 31 (Rank 4), 37 (Rank 5), 42 (Rank 6)\\nRank the Preferences: We assign numerical ranks to the soft drink preferences (Coke = 1, Pepsi = 2, Mountain Dew = 3):\\n\\nCoke (Rank 1), Pepsi (Rank 2), Mountain Dew (Rank 3), Coke (Rank 1), Pepsi (Rank 2), Coke (Rank 1)\\nCalculate Differences and Squared Differences: We find the difference between the ranks of ages and preferences for each \\nparticipant and then square these differences.\\n\\nSum the Squared Differences: We add up all the squared differences.\\n\\nCalculate Spearman's Rank Correlation Coefficient: We use the formula to calculate the coefficient, which tells us how strong \\nand in what direction the relationship is:\\n\\nThe formula we use incorporates the number of participants and the sum of the squared differences.\\nIn this case, the Spearman's rank correlation coefficient we calculated is approximately 0.1714.\\n\\nInterpretation:\\nA Spearman's rank correlation coefficient close to 1 indicates a strong positive relationship, meaning as one variable \\nincreases, the other also increases in a consistent manner.\\nA coefficient close to -1 indicates a strong negative relationship, meaning as one variable increases, the other decreases.\\nA coefficient close to 0 indicates little to no consistent relationship between the variables.\\nIn our survey, the coefficient of 0.1714 suggests a weak positive relationship between age and soft drink preference. This \\nmeans there is a slight tendency for preferences to change with age, but the relationship is not strong or consistent.\\n\\nTo sum up, the survey data shows that there is only a weak association between the ages of participants and their preferred\\nbrands of soft drinks, indicating that age does not strongly influence their choice of soft drink in this sample.\""
      ]
     },
     "execution_count": 12,
     "metadata": {},
     "output_type": "execute_result"
    }
   ],
   "source": [
    "Ans5=\"\"\"To examine the relationship between age and preference for a particular brand of soft drink, we use a statistical method called Spearman's rank correlation coefficient. This method helps us understand if there is a consistent pattern between the rankings of two variables—in this case, age and soft drink preference.\n",
    "\n",
    "Here's how we approach it:\n",
    "\n",
    "Collect Data: We have data from a survey that includes the ages of six participants and their preferred soft drink brands:\n",
    "\n",
    "Ages: 25, 42, 37, 19, 31, 28\n",
    "Preferences: Coke, Pepsi, Mountain Dew, Coke, Pepsi, Coke\n",
    "Rank the Ages: We rank the ages from youngest to oldest:\n",
    "\n",
    "19 (Rank 1), 25 (Rank 2), 28 (Rank 3), 31 (Rank 4), 37 (Rank 5), 42 (Rank 6)\n",
    "Rank the Preferences: We assign numerical ranks to the soft drink preferences (Coke = 1, Pepsi = 2, Mountain Dew = 3):\n",
    "\n",
    "Coke (Rank 1), Pepsi (Rank 2), Mountain Dew (Rank 3), Coke (Rank 1), Pepsi (Rank 2), Coke (Rank 1)\n",
    "Calculate Differences and Squared Differences: We find the difference between the ranks of ages and preferences for each \n",
    "participant and then square these differences.\n",
    "\n",
    "Sum the Squared Differences: We add up all the squared differences.\n",
    "\n",
    "Calculate Spearman's Rank Correlation Coefficient: We use the formula to calculate the coefficient, which tells us how strong \n",
    "and in what direction the relationship is:\n",
    "\n",
    "The formula we use incorporates the number of participants and the sum of the squared differences.\n",
    "In this case, the Spearman's rank correlation coefficient we calculated is approximately 0.1714.\n",
    "\n",
    "Interpretation:\n",
    "A Spearman's rank correlation coefficient close to 1 indicates a strong positive relationship, meaning as one variable \n",
    "increases, the other also increases in a consistent manner.\n",
    "A coefficient close to -1 indicates a strong negative relationship, meaning as one variable increases, the other decreases.\n",
    "A coefficient close to 0 indicates little to no consistent relationship between the variables.\n",
    "In our survey, the coefficient of 0.1714 suggests a weak positive relationship between age and soft drink preference. This \n",
    "means there is a slight tendency for preferences to change with age, but the relationship is not strong or consistent.\n",
    "\n",
    "To sum up, the survey data shows that there is only a weak association between the ages of participants and their preferred\n",
    "brands of soft drinks, indicating that age does not strongly influence their choice of soft drink in this sample.\"\"\"\n",
    "Ans5"
   ]
  },
  {
   "cell_type": "code",
   "execution_count": null,
   "id": "959eb259",
   "metadata": {},
   "outputs": [],
   "source": []
  },
  {
   "cell_type": "code",
   "execution_count": null,
   "id": "1bdcedff",
   "metadata": {},
   "outputs": [],
   "source": []
  },
  {
   "cell_type": "markdown",
   "id": "61c59464",
   "metadata": {},
   "source": [
    "Q6. A company is interested in examining the relationship between the number of sales calls made per day\n",
    "and the number of sales made per week. The company collected data on both variables from a sample of\n",
    "30 sales representatives. Calculate the Pearson correlation coefficient between these two variables."
   ]
  },
  {
   "cell_type": "code",
   "execution_count": 13,
   "id": "ba5974e9",
   "metadata": {},
   "outputs": [
    {
     "data": {
      "text/plain": [
       "\"To calculate the Pearson correlation coefficient between the number of sales calls made per day and the number of sales\\nmade per week for the 30 sales representatives, we examine how these two variables are related. Here's how we do it:\\n\\nCollect Data: We gather data on both variables for each of the 30 sales representatives.\\n\\nCalculate Means: We find the average number of sales calls made per day and the average number of sales made per week across\\nall representatives.\\n\\nCompute Deviations: For each representative, we determine how much their daily sales calls and weekly sales deviate from the\\nrespective means.\\n\\nProduct of Deviations: We multiply these deviations for each representative.\\n\\nSum the Products of Deviations: After calculating the products of deviations, we add them all together.\\n\\nCompute the Squared Deviations for Each Variable: We square the deviations from the means for both daily sales calls and weekly\\nsales for each representative.\\n\\nSum the Squared Deviations: After squaring these deviations, we sum them up.\\n\\nCalculate the Pearson Correlation Coefficient: Finally, we use a formula that incorporates the sums of products and squared \\ndeviations to compute the correlation coefficient.\\n\\nThe Pearson correlation coefficient quantifies the strength and direction of the linear relationship between the number of\\nsales calls made per day and the number of sales made per week.\\n\\nA coefficient close to 1 indicates a strong positive linear relationship, meaning as the number of sales calls made per day \\nincreases, the number of sales made per week also tends to increase.\\nA coefficient close to -1 indicates a strong negative linear relationship, indicating that as the number of sales calls made\\nper day increases, the number of sales made per week decreases.\\nA coefficient close to 0 suggests little to no linear relationship between the two variables.\\nBy performing these calculations, we gain insights into how closely related these variables are in the context of sales\\nperformance for the representatives in the study.\""
      ]
     },
     "execution_count": 13,
     "metadata": {},
     "output_type": "execute_result"
    }
   ],
   "source": [
    "Ans6=\"\"\"To calculate the Pearson correlation coefficient between the number of sales calls made per day and the number of sales\n",
    "made per week for the 30 sales representatives, we examine how these two variables are related. Here's how we do it:\n",
    "\n",
    "Collect Data: We gather data on both variables for each of the 30 sales representatives.\n",
    "\n",
    "Calculate Means: We find the average number of sales calls made per day and the average number of sales made per week across\n",
    "all representatives.\n",
    "\n",
    "Compute Deviations: For each representative, we determine how much their daily sales calls and weekly sales deviate from the\n",
    "respective means.\n",
    "\n",
    "Product of Deviations: We multiply these deviations for each representative.\n",
    "\n",
    "Sum the Products of Deviations: After calculating the products of deviations, we add them all together.\n",
    "\n",
    "Compute the Squared Deviations for Each Variable: We square the deviations from the means for both daily sales calls and weekly\n",
    "sales for each representative.\n",
    "\n",
    "Sum the Squared Deviations: After squaring these deviations, we sum them up.\n",
    "\n",
    "Calculate the Pearson Correlation Coefficient: Finally, we use a formula that incorporates the sums of products and squared \n",
    "deviations to compute the correlation coefficient.\n",
    "\n",
    "The Pearson correlation coefficient quantifies the strength and direction of the linear relationship between the number of\n",
    "sales calls made per day and the number of sales made per week.\n",
    "\n",
    "A coefficient close to 1 indicates a strong positive linear relationship, meaning as the number of sales calls made per day \n",
    "increases, the number of sales made per week also tends to increase.\n",
    "A coefficient close to -1 indicates a strong negative linear relationship, indicating that as the number of sales calls made\n",
    "per day increases, the number of sales made per week decreases.\n",
    "A coefficient close to 0 suggests little to no linear relationship between the two variables.\n",
    "By performing these calculations, we gain insights into how closely related these variables are in the context of sales\n",
    "performance for the representatives in the study.\"\"\"\n",
    "Ans6\n"
   ]
  },
  {
   "cell_type": "code",
   "execution_count": null,
   "id": "06adbd59",
   "metadata": {},
   "outputs": [],
   "source": []
  }
 ],
 "metadata": {
  "kernelspec": {
   "display_name": "Python 3 (ipykernel)",
   "language": "python",
   "name": "python3"
  },
  "language_info": {
   "codemirror_mode": {
    "name": "ipython",
    "version": 3
   },
   "file_extension": ".py",
   "mimetype": "text/x-python",
   "name": "python",
   "nbconvert_exporter": "python",
   "pygments_lexer": "ipython3",
   "version": "3.9.12"
  }
 },
 "nbformat": 4,
 "nbformat_minor": 5
}
